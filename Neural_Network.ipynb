{
 "cells": [
  {
   "cell_type": "code",
   "execution_count": 1,
   "metadata": {},
   "outputs": [
    {
     "name": "stderr",
     "output_type": "stream",
     "text": [
      "/home/manish/.local/lib/python3.5/site-packages/sklearn/ensemble/weight_boosting.py:29: DeprecationWarning: numpy.core.umath_tests is an internal NumPy module and should not be imported. It will be removed in a future NumPy release.\n",
      "  from numpy.core.umath_tests import inner1d\n",
      "Using TensorFlow backend.\n"
     ]
    }
   ],
   "source": [
    "import numpy as np\n",
    "import pandas as pd\n",
    "from sklearn.tree import DecisionTreeClassifier\n",
    "import matplotlib.pyplot as plt\n",
    "import seaborn as sns\n",
    "from sklearn.model_selection import train_test_split\n",
    "from sklearn import metrics\n",
    "from sklearn.ensemble import ExtraTreesClassifier\n",
    "from sklearn.feature_selection import SelectFromModel\n",
    "import keras\n",
    "from keras.models import Sequential\n",
    "from keras.layers import Dense\n",
    "from sklearn.metrics import confusion_matrix"
   ]
  },
  {
   "cell_type": "code",
   "execution_count": 2,
   "metadata": {},
   "outputs": [],
   "source": [
    "df = pd.read_csv('/home/manish/Desktop/IIT(ISM)/Project/7th_sem/Paper and Dataset/finalwormholeDataset.csv')"
   ]
  },
  {
   "cell_type": "code",
   "execution_count": 3,
   "metadata": {},
   "outputs": [
    {
     "data": {
      "text/html": [
       "<div>\n",
       "<style scoped>\n",
       "    .dataframe tbody tr th:only-of-type {\n",
       "        vertical-align: middle;\n",
       "    }\n",
       "\n",
       "    .dataframe tbody tr th {\n",
       "        vertical-align: top;\n",
       "    }\n",
       "\n",
       "    .dataframe thead th {\n",
       "        text-align: right;\n",
       "    }\n",
       "</style>\n",
       "<table border=\"1\" class=\"dataframe\">\n",
       "  <thead>\n",
       "    <tr style=\"text-align: right;\">\n",
       "      <th></th>\n",
       "      <th>duration</th>\n",
       "      <th>protocol</th>\n",
       "      <th>Plength</th>\n",
       "      <th>flag</th>\n",
       "      <th>Mlength</th>\n",
       "      <th>HoP</th>\n",
       "      <th>LifeTime</th>\n",
       "      <th>MsgType</th>\n",
       "      <th>DSN</th>\n",
       "      <th>Sno</th>\n",
       "      <th>...</th>\n",
       "      <th>land</th>\n",
       "      <th>Tmode</th>\n",
       "      <th>Neighbors</th>\n",
       "      <th>Hflow</th>\n",
       "      <th>AvgFlow</th>\n",
       "      <th>Lflow</th>\n",
       "      <th>AvgHopCount</th>\n",
       "      <th>failedConnection</th>\n",
       "      <th>Failed Rate</th>\n",
       "      <th>Label</th>\n",
       "    </tr>\n",
       "  </thead>\n",
       "  <tbody>\n",
       "    <tr>\n",
       "      <th>0</th>\n",
       "      <td>0.000000</td>\n",
       "      <td>AODV</td>\n",
       "      <td>84</td>\n",
       "      <td>0</td>\n",
       "      <td>28</td>\n",
       "      <td>0</td>\n",
       "      <td>2000</td>\n",
       "      <td>Route Reply</td>\n",
       "      <td>0</td>\n",
       "      <td>0</td>\n",
       "      <td>...</td>\n",
       "      <td>0</td>\n",
       "      <td>1</td>\n",
       "      <td>8</td>\n",
       "      <td>6367</td>\n",
       "      <td>1319.25</td>\n",
       "      <td>5</td>\n",
       "      <td>0.24832</td>\n",
       "      <td>2700</td>\n",
       "      <td>59.960027</td>\n",
       "      <td>normal</td>\n",
       "    </tr>\n",
       "    <tr>\n",
       "      <th>1</th>\n",
       "      <td>0.000978</td>\n",
       "      <td>ICMP</td>\n",
       "      <td>92</td>\n",
       "      <td>-1</td>\n",
       "      <td>28</td>\n",
       "      <td>-1</td>\n",
       "      <td>-1</td>\n",
       "      <td>-1</td>\n",
       "      <td>-1</td>\n",
       "      <td>0</td>\n",
       "      <td>...</td>\n",
       "      <td>2</td>\n",
       "      <td>0</td>\n",
       "      <td>8</td>\n",
       "      <td>6367</td>\n",
       "      <td>1319.25</td>\n",
       "      <td>5</td>\n",
       "      <td>0.24832</td>\n",
       "      <td>2700</td>\n",
       "      <td>59.960027</td>\n",
       "      <td>attack</td>\n",
       "    </tr>\n",
       "    <tr>\n",
       "      <th>2</th>\n",
       "      <td>0.028177</td>\n",
       "      <td>AODV</td>\n",
       "      <td>76</td>\n",
       "      <td>0</td>\n",
       "      <td>20</td>\n",
       "      <td>-1</td>\n",
       "      <td>-1</td>\n",
       "      <td>Route Error</td>\n",
       "      <td>0</td>\n",
       "      <td>1</td>\n",
       "      <td>...</td>\n",
       "      <td>2</td>\n",
       "      <td>1</td>\n",
       "      <td>8</td>\n",
       "      <td>6367</td>\n",
       "      <td>1319.25</td>\n",
       "      <td>5</td>\n",
       "      <td>0.24832</td>\n",
       "      <td>2700</td>\n",
       "      <td>59.960027</td>\n",
       "      <td>normal</td>\n",
       "    </tr>\n",
       "    <tr>\n",
       "      <th>3</th>\n",
       "      <td>0.001886</td>\n",
       "      <td>AODV</td>\n",
       "      <td>76</td>\n",
       "      <td>0</td>\n",
       "      <td>20</td>\n",
       "      <td>-1</td>\n",
       "      <td>-1</td>\n",
       "      <td>Route Error</td>\n",
       "      <td>0</td>\n",
       "      <td>1</td>\n",
       "      <td>...</td>\n",
       "      <td>2</td>\n",
       "      <td>1</td>\n",
       "      <td>8</td>\n",
       "      <td>6367</td>\n",
       "      <td>1319.25</td>\n",
       "      <td>5</td>\n",
       "      <td>0.24832</td>\n",
       "      <td>2700</td>\n",
       "      <td>59.960027</td>\n",
       "      <td>normal</td>\n",
       "    </tr>\n",
       "    <tr>\n",
       "      <th>4</th>\n",
       "      <td>0.001973</td>\n",
       "      <td>ICMP</td>\n",
       "      <td>92</td>\n",
       "      <td>-1</td>\n",
       "      <td>20</td>\n",
       "      <td>-1</td>\n",
       "      <td>-1</td>\n",
       "      <td>-1</td>\n",
       "      <td>-1</td>\n",
       "      <td>2</td>\n",
       "      <td>...</td>\n",
       "      <td>2</td>\n",
       "      <td>0</td>\n",
       "      <td>8</td>\n",
       "      <td>6367</td>\n",
       "      <td>1319.25</td>\n",
       "      <td>5</td>\n",
       "      <td>0.24832</td>\n",
       "      <td>2700</td>\n",
       "      <td>59.960027</td>\n",
       "      <td>attack</td>\n",
       "    </tr>\n",
       "  </tbody>\n",
       "</table>\n",
       "<p>5 rows × 21 columns</p>\n",
       "</div>"
      ],
      "text/plain": [
       "   duration protocol  Plength  flag  Mlength  HoP  LifeTime      MsgType DSN  \\\n",
       "0  0.000000     AODV       84     0       28    0      2000  Route Reply   0   \n",
       "1  0.000978     ICMP       92    -1       28   -1        -1           -1  -1   \n",
       "2  0.028177     AODV       76     0       20   -1        -1  Route Error   0   \n",
       "3  0.001886     AODV       76     0       20   -1        -1  Route Error   0   \n",
       "4  0.001973     ICMP       92    -1       20   -1        -1           -1  -1   \n",
       "\n",
       "   Sno  ...  land  Tmode  Neighbors  Hflow  AvgFlow  Lflow  AvgHopCount  \\\n",
       "0    0  ...     0      1          8   6367  1319.25      5      0.24832   \n",
       "1    0  ...     2      0          8   6367  1319.25      5      0.24832   \n",
       "2    1  ...     2      1          8   6367  1319.25      5      0.24832   \n",
       "3    1  ...     2      1          8   6367  1319.25      5      0.24832   \n",
       "4    2  ...     2      0          8   6367  1319.25      5      0.24832   \n",
       "\n",
       "   failedConnection  Failed Rate   Label  \n",
       "0              2700    59.960027  normal  \n",
       "1              2700    59.960027  attack  \n",
       "2              2700    59.960027  normal  \n",
       "3              2700    59.960027  normal  \n",
       "4              2700    59.960027  attack  \n",
       "\n",
       "[5 rows x 21 columns]"
      ]
     },
     "execution_count": 3,
     "metadata": {},
     "output_type": "execute_result"
    }
   ],
   "source": [
    "df.head()"
   ]
  },
  {
   "cell_type": "code",
   "execution_count": 4,
   "metadata": {},
   "outputs": [
    {
     "data": {
      "text/plain": [
       "(637862, 21)"
      ]
     },
     "execution_count": 4,
     "metadata": {},
     "output_type": "execute_result"
    }
   ],
   "source": [
    "df.shape"
   ]
  },
  {
   "cell_type": "code",
   "execution_count": 5,
   "metadata": {},
   "outputs": [],
   "source": [
    "df = df.sample(frac=1)"
   ]
  },
  {
   "cell_type": "code",
   "execution_count": 6,
   "metadata": {},
   "outputs": [
    {
     "data": {
      "text/html": [
       "<div>\n",
       "<style scoped>\n",
       "    .dataframe tbody tr th:only-of-type {\n",
       "        vertical-align: middle;\n",
       "    }\n",
       "\n",
       "    .dataframe tbody tr th {\n",
       "        vertical-align: top;\n",
       "    }\n",
       "\n",
       "    .dataframe thead th {\n",
       "        text-align: right;\n",
       "    }\n",
       "</style>\n",
       "<table border=\"1\" class=\"dataframe\">\n",
       "  <thead>\n",
       "    <tr style=\"text-align: right;\">\n",
       "      <th></th>\n",
       "      <th>duration</th>\n",
       "      <th>protocol</th>\n",
       "      <th>Plength</th>\n",
       "      <th>flag</th>\n",
       "      <th>Mlength</th>\n",
       "      <th>HoP</th>\n",
       "      <th>LifeTime</th>\n",
       "      <th>MsgType</th>\n",
       "      <th>DSN</th>\n",
       "      <th>Sno</th>\n",
       "      <th>...</th>\n",
       "      <th>land</th>\n",
       "      <th>Tmode</th>\n",
       "      <th>Neighbors</th>\n",
       "      <th>Hflow</th>\n",
       "      <th>AvgFlow</th>\n",
       "      <th>Lflow</th>\n",
       "      <th>AvgHopCount</th>\n",
       "      <th>failedConnection</th>\n",
       "      <th>Failed Rate</th>\n",
       "      <th>Label</th>\n",
       "    </tr>\n",
       "  </thead>\n",
       "  <tbody>\n",
       "    <tr>\n",
       "      <th>261669</th>\n",
       "      <td>0.001482</td>\n",
       "      <td>AODV</td>\n",
       "      <td>76</td>\n",
       "      <td>0</td>\n",
       "      <td>20</td>\n",
       "      <td>-1</td>\n",
       "      <td>-1</td>\n",
       "      <td>Route Error</td>\n",
       "      <td>0</td>\n",
       "      <td>10</td>\n",
       "      <td>...</td>\n",
       "      <td>2</td>\n",
       "      <td>1</td>\n",
       "      <td>15</td>\n",
       "      <td>7092</td>\n",
       "      <td>2056.733333</td>\n",
       "      <td>25</td>\n",
       "      <td>0.200747</td>\n",
       "      <td>4628</td>\n",
       "      <td>59.585426</td>\n",
       "      <td>normal</td>\n",
       "    </tr>\n",
       "    <tr>\n",
       "      <th>314765</th>\n",
       "      <td>0.001079</td>\n",
       "      <td>ICMP</td>\n",
       "      <td>92</td>\n",
       "      <td>-1</td>\n",
       "      <td>20</td>\n",
       "      <td>-1</td>\n",
       "      <td>-1</td>\n",
       "      <td>-1</td>\n",
       "      <td>-1</td>\n",
       "      <td>3</td>\n",
       "      <td>...</td>\n",
       "      <td>2</td>\n",
       "      <td>0</td>\n",
       "      <td>10</td>\n",
       "      <td>6184</td>\n",
       "      <td>1734.500000</td>\n",
       "      <td>301</td>\n",
       "      <td>0.216141</td>\n",
       "      <td>3621</td>\n",
       "      <td>57.889688</td>\n",
       "      <td>attack</td>\n",
       "    </tr>\n",
       "    <tr>\n",
       "      <th>613664</th>\n",
       "      <td>0.000914</td>\n",
       "      <td>AODV</td>\n",
       "      <td>84</td>\n",
       "      <td>0</td>\n",
       "      <td>28</td>\n",
       "      <td>0</td>\n",
       "      <td>2000</td>\n",
       "      <td>Route Reply</td>\n",
       "      <td>0</td>\n",
       "      <td>14</td>\n",
       "      <td>...</td>\n",
       "      <td>0</td>\n",
       "      <td>0</td>\n",
       "      <td>13</td>\n",
       "      <td>7764</td>\n",
       "      <td>1487.230769</td>\n",
       "      <td>2</td>\n",
       "      <td>0.179579</td>\n",
       "      <td>4239</td>\n",
       "      <td>69.548811</td>\n",
       "      <td>attack</td>\n",
       "    </tr>\n",
       "    <tr>\n",
       "      <th>378460</th>\n",
       "      <td>0.000979</td>\n",
       "      <td>ICMP</td>\n",
       "      <td>92</td>\n",
       "      <td>-1</td>\n",
       "      <td>28</td>\n",
       "      <td>-1</td>\n",
       "      <td>-1</td>\n",
       "      <td>-1</td>\n",
       "      <td>-1</td>\n",
       "      <td>9</td>\n",
       "      <td>...</td>\n",
       "      <td>2</td>\n",
       "      <td>0</td>\n",
       "      <td>16</td>\n",
       "      <td>7097</td>\n",
       "      <td>1926.312500</td>\n",
       "      <td>25</td>\n",
       "      <td>0.197682</td>\n",
       "      <td>4733</td>\n",
       "      <td>59.647133</td>\n",
       "      <td>attack</td>\n",
       "    </tr>\n",
       "    <tr>\n",
       "      <th>266821</th>\n",
       "      <td>0.000090</td>\n",
       "      <td>AODV</td>\n",
       "      <td>84</td>\n",
       "      <td>0</td>\n",
       "      <td>28</td>\n",
       "      <td>0</td>\n",
       "      <td>2000</td>\n",
       "      <td>Route Reply</td>\n",
       "      <td>1</td>\n",
       "      <td>6</td>\n",
       "      <td>...</td>\n",
       "      <td>0</td>\n",
       "      <td>1</td>\n",
       "      <td>15</td>\n",
       "      <td>7092</td>\n",
       "      <td>2056.733333</td>\n",
       "      <td>25</td>\n",
       "      <td>0.200747</td>\n",
       "      <td>4628</td>\n",
       "      <td>59.585426</td>\n",
       "      <td>normal</td>\n",
       "    </tr>\n",
       "  </tbody>\n",
       "</table>\n",
       "<p>5 rows × 21 columns</p>\n",
       "</div>"
      ],
      "text/plain": [
       "        duration protocol  Plength  flag  Mlength  HoP  LifeTime      MsgType  \\\n",
       "261669  0.001482     AODV       76     0       20   -1        -1  Route Error   \n",
       "314765  0.001079     ICMP       92    -1       20   -1        -1           -1   \n",
       "613664  0.000914     AODV       84     0       28    0      2000  Route Reply   \n",
       "378460  0.000979     ICMP       92    -1       28   -1        -1           -1   \n",
       "266821  0.000090     AODV       84     0       28    0      2000  Route Reply   \n",
       "\n",
       "       DSN  Sno  ...  land  Tmode  Neighbors  Hflow      AvgFlow  Lflow  \\\n",
       "261669   0   10  ...     2      1         15   7092  2056.733333     25   \n",
       "314765  -1    3  ...     2      0         10   6184  1734.500000    301   \n",
       "613664   0   14  ...     0      0         13   7764  1487.230769      2   \n",
       "378460  -1    9  ...     2      0         16   7097  1926.312500     25   \n",
       "266821   1    6  ...     0      1         15   7092  2056.733333     25   \n",
       "\n",
       "        AvgHopCount  failedConnection  Failed Rate   Label  \n",
       "261669     0.200747              4628    59.585426  normal  \n",
       "314765     0.216141              3621    57.889688  attack  \n",
       "613664     0.179579              4239    69.548811  attack  \n",
       "378460     0.197682              4733    59.647133  attack  \n",
       "266821     0.200747              4628    59.585426  normal  \n",
       "\n",
       "[5 rows x 21 columns]"
      ]
     },
     "execution_count": 6,
     "metadata": {},
     "output_type": "execute_result"
    }
   ],
   "source": [
    "df.head()"
   ]
  },
  {
   "cell_type": "code",
   "execution_count": 7,
   "metadata": {},
   "outputs": [
    {
     "data": {
      "text/plain": [
       "(637862, 21)"
      ]
     },
     "execution_count": 7,
     "metadata": {},
     "output_type": "execute_result"
    }
   ],
   "source": [
    "df.shape"
   ]
  },
  {
   "cell_type": "code",
   "execution_count": 8,
   "metadata": {},
   "outputs": [
    {
     "data": {
      "text/html": [
       "<div>\n",
       "<style scoped>\n",
       "    .dataframe tbody tr th:only-of-type {\n",
       "        vertical-align: middle;\n",
       "    }\n",
       "\n",
       "    .dataframe tbody tr th {\n",
       "        vertical-align: top;\n",
       "    }\n",
       "\n",
       "    .dataframe thead th {\n",
       "        text-align: right;\n",
       "    }\n",
       "</style>\n",
       "<table border=\"1\" class=\"dataframe\">\n",
       "  <thead>\n",
       "    <tr style=\"text-align: right;\">\n",
       "      <th></th>\n",
       "      <th>duration</th>\n",
       "      <th>Plength</th>\n",
       "      <th>flag</th>\n",
       "      <th>Mlength</th>\n",
       "      <th>HoP</th>\n",
       "      <th>LifeTime</th>\n",
       "      <th>Sno</th>\n",
       "      <th>Sindex</th>\n",
       "      <th>land</th>\n",
       "      <th>Tmode</th>\n",
       "      <th>Neighbors</th>\n",
       "      <th>Hflow</th>\n",
       "      <th>AvgFlow</th>\n",
       "      <th>Lflow</th>\n",
       "      <th>AvgHopCount</th>\n",
       "      <th>failedConnection</th>\n",
       "      <th>Failed Rate</th>\n",
       "    </tr>\n",
       "  </thead>\n",
       "  <tbody>\n",
       "    <tr>\n",
       "      <th>count</th>\n",
       "      <td>637862.000000</td>\n",
       "      <td>637862.000000</td>\n",
       "      <td>637862.000000</td>\n",
       "      <td>637862.000000</td>\n",
       "      <td>637862.000000</td>\n",
       "      <td>637862.000000</td>\n",
       "      <td>637862.000000</td>\n",
       "      <td>637862.000000</td>\n",
       "      <td>637862.000000</td>\n",
       "      <td>637862.000000</td>\n",
       "      <td>637862.000000</td>\n",
       "      <td>637862.000000</td>\n",
       "      <td>637862.000000</td>\n",
       "      <td>637862.000000</td>\n",
       "      <td>637862.000000</td>\n",
       "      <td>637862.000000</td>\n",
       "      <td>637862.000000</td>\n",
       "    </tr>\n",
       "    <tr>\n",
       "      <th>mean</th>\n",
       "      <td>0.014189</td>\n",
       "      <td>89.589435</td>\n",
       "      <td>110.839263</td>\n",
       "      <td>25.770104</td>\n",
       "      <td>-0.766843</td>\n",
       "      <td>404.101061</td>\n",
       "      <td>9.819489</td>\n",
       "      <td>1429.758499</td>\n",
       "      <td>1.631633</td>\n",
       "      <td>0.251398</td>\n",
       "      <td>13.758746</td>\n",
       "      <td>7236.509479</td>\n",
       "      <td>1671.795566</td>\n",
       "      <td>61.917407</td>\n",
       "      <td>0.204938</td>\n",
       "      <td>4342.024985</td>\n",
       "      <td>62.910107</td>\n",
       "    </tr>\n",
       "    <tr>\n",
       "      <th>std</th>\n",
       "      <td>0.096779</td>\n",
       "      <td>32.584956</td>\n",
       "      <td>1133.951488</td>\n",
       "      <td>32.609399</td>\n",
       "      <td>0.578324</td>\n",
       "      <td>980.532344</td>\n",
       "      <td>9.727308</td>\n",
       "      <td>1139.028021</td>\n",
       "      <td>0.763185</td>\n",
       "      <td>0.433817</td>\n",
       "      <td>2.826686</td>\n",
       "      <td>645.978748</td>\n",
       "      <td>276.146268</td>\n",
       "      <td>107.105989</td>\n",
       "      <td>0.017860</td>\n",
       "      <td>699.159048</td>\n",
       "      <td>4.434745</td>\n",
       "    </tr>\n",
       "    <tr>\n",
       "      <th>min</th>\n",
       "      <td>0.000000</td>\n",
       "      <td>66.000000</td>\n",
       "      <td>-1.000000</td>\n",
       "      <td>10.000000</td>\n",
       "      <td>-1.000000</td>\n",
       "      <td>-1.000000</td>\n",
       "      <td>0.000000</td>\n",
       "      <td>0.000000</td>\n",
       "      <td>0.000000</td>\n",
       "      <td>0.000000</td>\n",
       "      <td>8.000000</td>\n",
       "      <td>6142.000000</td>\n",
       "      <td>1001.300000</td>\n",
       "      <td>1.000000</td>\n",
       "      <td>0.179579</td>\n",
       "      <td>2700.000000</td>\n",
       "      <td>56.927251</td>\n",
       "    </tr>\n",
       "    <tr>\n",
       "      <th>25%</th>\n",
       "      <td>0.000999</td>\n",
       "      <td>84.000000</td>\n",
       "      <td>-1.000000</td>\n",
       "      <td>20.000000</td>\n",
       "      <td>-1.000000</td>\n",
       "      <td>-1.000000</td>\n",
       "      <td>4.000000</td>\n",
       "      <td>484.000000</td>\n",
       "      <td>2.000000</td>\n",
       "      <td>0.000000</td>\n",
       "      <td>12.000000</td>\n",
       "      <td>6634.000000</td>\n",
       "      <td>1483.150000</td>\n",
       "      <td>4.000000</td>\n",
       "      <td>0.190776</td>\n",
       "      <td>3741.000000</td>\n",
       "      <td>59.463764</td>\n",
       "    </tr>\n",
       "    <tr>\n",
       "      <th>50%</th>\n",
       "      <td>0.001229</td>\n",
       "      <td>92.000000</td>\n",
       "      <td>-1.000000</td>\n",
       "      <td>28.000000</td>\n",
       "      <td>-1.000000</td>\n",
       "      <td>-1.000000</td>\n",
       "      <td>8.000000</td>\n",
       "      <td>1078.000000</td>\n",
       "      <td>2.000000</td>\n",
       "      <td>0.000000</td>\n",
       "      <td>14.000000</td>\n",
       "      <td>7260.000000</td>\n",
       "      <td>1722.500000</td>\n",
       "      <td>5.000000</td>\n",
       "      <td>0.197682</td>\n",
       "      <td>4491.000000</td>\n",
       "      <td>62.595632</td>\n",
       "    </tr>\n",
       "    <tr>\n",
       "      <th>75%</th>\n",
       "      <td>0.001830</td>\n",
       "      <td>92.000000</td>\n",
       "      <td>0.000000</td>\n",
       "      <td>28.000000</td>\n",
       "      <td>-1.000000</td>\n",
       "      <td>-1.000000</td>\n",
       "      <td>12.000000</td>\n",
       "      <td>2254.000000</td>\n",
       "      <td>2.000000</td>\n",
       "      <td>1.000000</td>\n",
       "      <td>15.000000</td>\n",
       "      <td>7759.000000</td>\n",
       "      <td>1918.769231</td>\n",
       "      <td>27.000000</td>\n",
       "      <td>0.216141</td>\n",
       "      <td>4733.000000</td>\n",
       "      <td>68.344537</td>\n",
       "    </tr>\n",
       "    <tr>\n",
       "      <th>max</th>\n",
       "      <td>0.938905</td>\n",
       "      <td>1104.000000</td>\n",
       "      <td>16384.000000</td>\n",
       "      <td>1048.000000</td>\n",
       "      <td>6.000000</td>\n",
       "      <td>14984.000000</td>\n",
       "      <td>125.000000</td>\n",
       "      <td>4095.000000</td>\n",
       "      <td>2.000000</td>\n",
       "      <td>1.000000</td>\n",
       "      <td>20.000000</td>\n",
       "      <td>8194.000000</td>\n",
       "      <td>2056.733333</td>\n",
       "      <td>303.000000</td>\n",
       "      <td>0.248320</td>\n",
       "      <td>5624.000000</td>\n",
       "      <td>72.685851</td>\n",
       "    </tr>\n",
       "  </tbody>\n",
       "</table>\n",
       "</div>"
      ],
      "text/plain": [
       "            duration        Plength           flag        Mlength  \\\n",
       "count  637862.000000  637862.000000  637862.000000  637862.000000   \n",
       "mean        0.014189      89.589435     110.839263      25.770104   \n",
       "std         0.096779      32.584956    1133.951488      32.609399   \n",
       "min         0.000000      66.000000      -1.000000      10.000000   \n",
       "25%         0.000999      84.000000      -1.000000      20.000000   \n",
       "50%         0.001229      92.000000      -1.000000      28.000000   \n",
       "75%         0.001830      92.000000       0.000000      28.000000   \n",
       "max         0.938905    1104.000000   16384.000000    1048.000000   \n",
       "\n",
       "                 HoP       LifeTime            Sno         Sindex  \\\n",
       "count  637862.000000  637862.000000  637862.000000  637862.000000   \n",
       "mean       -0.766843     404.101061       9.819489    1429.758499   \n",
       "std         0.578324     980.532344       9.727308    1139.028021   \n",
       "min        -1.000000      -1.000000       0.000000       0.000000   \n",
       "25%        -1.000000      -1.000000       4.000000     484.000000   \n",
       "50%        -1.000000      -1.000000       8.000000    1078.000000   \n",
       "75%        -1.000000      -1.000000      12.000000    2254.000000   \n",
       "max         6.000000   14984.000000     125.000000    4095.000000   \n",
       "\n",
       "                land          Tmode      Neighbors          Hflow  \\\n",
       "count  637862.000000  637862.000000  637862.000000  637862.000000   \n",
       "mean        1.631633       0.251398      13.758746    7236.509479   \n",
       "std         0.763185       0.433817       2.826686     645.978748   \n",
       "min         0.000000       0.000000       8.000000    6142.000000   \n",
       "25%         2.000000       0.000000      12.000000    6634.000000   \n",
       "50%         2.000000       0.000000      14.000000    7260.000000   \n",
       "75%         2.000000       1.000000      15.000000    7759.000000   \n",
       "max         2.000000       1.000000      20.000000    8194.000000   \n",
       "\n",
       "             AvgFlow          Lflow    AvgHopCount  failedConnection  \\\n",
       "count  637862.000000  637862.000000  637862.000000     637862.000000   \n",
       "mean     1671.795566      61.917407       0.204938       4342.024985   \n",
       "std       276.146268     107.105989       0.017860        699.159048   \n",
       "min      1001.300000       1.000000       0.179579       2700.000000   \n",
       "25%      1483.150000       4.000000       0.190776       3741.000000   \n",
       "50%      1722.500000       5.000000       0.197682       4491.000000   \n",
       "75%      1918.769231      27.000000       0.216141       4733.000000   \n",
       "max      2056.733333     303.000000       0.248320       5624.000000   \n",
       "\n",
       "         Failed Rate  \n",
       "count  637862.000000  \n",
       "mean       62.910107  \n",
       "std         4.434745  \n",
       "min        56.927251  \n",
       "25%        59.463764  \n",
       "50%        62.595632  \n",
       "75%        68.344537  \n",
       "max        72.685851  "
      ]
     },
     "execution_count": 8,
     "metadata": {},
     "output_type": "execute_result"
    }
   ],
   "source": [
    "df.describe()"
   ]
  },
  {
   "cell_type": "code",
   "execution_count": 9,
   "metadata": {},
   "outputs": [],
   "source": [
    "df.replace({'normal':0, 'attack':1 }, inplace = True)"
   ]
  },
  {
   "cell_type": "code",
   "execution_count": 10,
   "metadata": {},
   "outputs": [
    {
     "data": {
      "image/png": "[encoded data removed]",
      "text/plain": [
       "<matplotlib.figure.Figure at 0x7fa242a18240>"
      ]
     },
     "metadata": {},
     "output_type": "display_data"
    },
    {
     "name": "stdout",
     "output_type": "stream",
     "text": [
      "No. of normals:  152144\n",
      "No. of attacks:  485718\n"
     ]
    }
   ],
   "source": [
    "plt.hist(df['Label'], bins='auto')\n",
    "plt.ylabel('No of times')\n",
    "plt.show()\n",
    "print('No. of normals: ', len(df[df['Label']==0]))\n",
    "print('No. of attacks: ', len(df[df['Label']==1]))"
   ]
  },
  {
   "cell_type": "code",
   "execution_count": 11,
   "metadata": {},
   "outputs": [
    {
     "name": "stderr",
     "output_type": "stream",
     "text": [
      "/usr/lib/python3/dist-packages/scipy/stats/stats.py:1857: FutureWarning: Using a non-tuple sequence for multidimensional indexing is deprecated; use `arr[tuple(seq)]` instead of `arr[seq]`. In the future this will be interpreted as an array index, `arr[np.array(seq)]`, which will result either in an error or a different result.\n",
      "  return np.add.reduce(sorted[indexer] * weights, axis=axis) / sumval\n"
     ]
    },
    {
     "data": {
      "image/png": "[encoded data removed]",
      "text/plain": [
       "<matplotlib.figure.Figure at 0x7fa242a402e8>"
      ]
     },
     "metadata": {},
     "output_type": "display_data"
    }
   ],
   "source": [
    "sns.set_style('darkgrid')\n",
    "sns.distplot(df['Label'])\n",
    "plt.show()"
   ]
  },
  {
   "cell_type": "code",
   "execution_count": 12,
   "metadata": {},
   "outputs": [
    {
     "name": "stdout",
     "output_type": "stream",
     "text": [
      "duration   float64\n",
      "protocol   object\n",
      "Plength   int64\n",
      "flag   int64\n",
      "Mlength   int64\n",
      "HoP   int64\n",
      "LifeTime   int64\n",
      "MsgType   object\n",
      "DSN   object\n",
      "Sno   int64\n",
      "Sindex   int64\n",
      "land   int64\n",
      "Tmode   int64\n",
      "Neighbors   int64\n",
      "Hflow   int64\n",
      "AvgFlow   float64\n",
      "Lflow   int64\n",
      "AvgHopCount   float64\n",
      "failedConnection   int64\n",
      "Failed Rate   float64\n",
      "Label   int64\n"
     ]
    }
   ],
   "source": [
    "for x in df.columns:\n",
    "    print(x,' ',df[x].dtype)"
   ]
  },
  {
   "cell_type": "code",
   "execution_count": 13,
   "metadata": {},
   "outputs": [
    {
     "data": {
      "text/plain": [
       "duration            0\n",
       "protocol            0\n",
       "Plength             0\n",
       "flag                0\n",
       "Mlength             0\n",
       "HoP                 0\n",
       "LifeTime            0\n",
       "MsgType             0\n",
       "DSN                 0\n",
       "Sno                 0\n",
       "Sindex              0\n",
       "land                0\n",
       "Tmode               0\n",
       "Neighbors           0\n",
       "Hflow               0\n",
       "AvgFlow             0\n",
       "Lflow               0\n",
       "AvgHopCount         0\n",
       "failedConnection    0\n",
       "Failed Rate         0\n",
       "Label               0\n",
       "dtype: int64"
      ]
     },
     "execution_count": 13,
     "metadata": {},
     "output_type": "execute_result"
    }
   ],
   "source": [
    "df.isnull().sum()"
   ]
  },
  {
   "cell_type": "code",
   "execution_count": 14,
   "metadata": {},
   "outputs": [
    {
     "name": "stdout",
     "output_type": "stream",
     "text": [
      "protocol\n",
      "MsgType\n",
      "DSN\n"
     ]
    }
   ],
   "source": [
    "for column in df.columns:\n",
    "    if(df[column].dtype=='object'):\n",
    "        print(column)"
   ]
  },
  {
   "cell_type": "code",
   "execution_count": 15,
   "metadata": {},
   "outputs": [
    {
     "data": {
      "text/plain": [
       "array(['AODV', 'ICMP', 'UDP'], dtype=object)"
      ]
     },
     "execution_count": 15,
     "metadata": {},
     "output_type": "execute_result"
    }
   ],
   "source": [
    "pd.unique(df['protocol'].values)"
   ]
  },
  {
   "cell_type": "code",
   "execution_count": 16,
   "metadata": {},
   "outputs": [],
   "source": [
    "df.replace({'AODV':0, 'ICMP':1, 'UDP':2 }, inplace = True)"
   ]
  },
  {
   "cell_type": "code",
   "execution_count": 17,
   "metadata": {},
   "outputs": [
    {
     "data": {
      "text/plain": [
       "array(['Route Error', '-1', 'Route Reply', 'Route Reply Acknowledgment',\n",
       "       'Route Request'], dtype=object)"
      ]
     },
     "execution_count": 17,
     "metadata": {},
     "output_type": "execute_result"
    }
   ],
   "source": [
    "pd.unique(df['MsgType'].values)"
   ]
  },
  {
   "cell_type": "code",
   "execution_count": 18,
   "metadata": {},
   "outputs": [],
   "source": [
    "df.replace({'Route Reply':0, '-1':1, 'Route Error':2, 'Route Request':3, 'Route Reply Acknowledgment':4}, inplace = True)"
   ]
  },
  {
   "cell_type": "code",
   "execution_count": 19,
   "metadata": {},
   "outputs": [
    {
     "data": {
      "text/plain": [
       "array(['0', 1, '1', '2', '3', '1,0', '4', '2,2', '1,3', '0,0', '0,1',\n",
       "       '0,2', '0,0,0', '0,3', '2,0', '1,1', '1,2'], dtype=object)"
      ]
     },
     "execution_count": 19,
     "metadata": {},
     "output_type": "execute_result"
    }
   ],
   "source": [
    "pd.unique(df['DSN'].values)"
   ]
  },
  {
   "cell_type": "code",
   "execution_count": 20,
   "metadata": {},
   "outputs": [
    {
     "data": {
      "text/plain": [
       "count     637862\n",
       "unique        17\n",
       "top            1\n",
       "freq      441222\n",
       "Name: DSN, dtype: int64"
      ]
     },
     "execution_count": 20,
     "metadata": {},
     "output_type": "execute_result"
    }
   ],
   "source": [
    "df['DSN'].describe()"
   ]
  },
  {
   "cell_type": "code",
   "execution_count": 21,
   "metadata": {},
   "outputs": [],
   "source": [
    "df.drop(['DSN'], axis=1, inplace=True)"
   ]
  },
  {
   "cell_type": "code",
   "execution_count": 22,
   "metadata": {},
   "outputs": [
    {
     "data": {
      "text/plain": [
       "(637862, 20)"
      ]
     },
     "execution_count": 22,
     "metadata": {},
     "output_type": "execute_result"
    }
   ],
   "source": [
    "df.shape"
   ]
  },
  {
   "cell_type": "code",
   "execution_count": 23,
   "metadata": {},
   "outputs": [
    {
     "name": "stdout",
     "output_type": "stream",
     "text": [
      "y-shape:  (637862,)\n",
      "x-shape:  (637862, 19)\n"
     ]
    }
   ],
   "source": [
    "y = df['Label']\n",
    "df.drop(['Label'], axis=1, inplace=True)\n",
    "print('y-shape: ', y.shape)\n",
    "print('x-shape: ', df.shape)"
   ]
  },
  {
   "cell_type": "code",
   "execution_count": 24,
   "metadata": {},
   "outputs": [],
   "source": [
    "x_train, x_test, y_train, y_test = train_test_split(df, y, test_size=0.33, random_state=42)"
   ]
  },
  {
   "cell_type": "code",
   "execution_count": 25,
   "metadata": {},
   "outputs": [
    {
     "name": "stdout",
     "output_type": "stream",
     "text": [
      "x-train:  (427367, 19)\n",
      "y-train:  (427367,)\n",
      "x-test:  (210495, 19)\n",
      "y-train:  (427367,)\n"
     ]
    }
   ],
   "source": [
    "print('x-train: ', x_train.shape)\n",
    "print('y-train: ', y_train.shape)\n",
    "print('x-test: ', x_test.shape)\n",
    "print('y-train: ', y_train.shape)"
   ]
  },
  {
   "cell_type": "markdown",
   "metadata": {},
   "source": [
    "## Basic neural network"
   ]
  },
  {
   "cell_type": "code",
   "execution_count": 26,
   "metadata": {},
   "outputs": [
    {
     "name": "stdout",
     "output_type": "stream",
     "text": [
      "WARNING:tensorflow:From /usr/local/lib/python3.5/dist-packages/tensorflow/python/framework/op_def_library.py:263: colocate_with (from tensorflow.python.framework.ops) is deprecated and will be removed in a future version.\n",
      "Instructions for updating:\n",
      "Colocations handled automatically by placer.\n"
     ]
    }
   ],
   "source": [
    "model = Sequential()\n",
    "model.add(Dense(12, input_dim=19, activation='relu'))\n",
    "model.add(Dense(8, activation='relu'))\n",
    "model.add(Dense(1, activation='sigmoid'))"
   ]
  },
  {
   "cell_type": "code",
   "execution_count": 27,
   "metadata": {},
   "outputs": [
    {
     "name": "stdout",
     "output_type": "stream",
     "text": [
      "_________________________________________________________________\n",
      "Layer (type)                 Output Shape              Param #   \n",
      "=================================================================\n",
      "dense_1 (Dense)              (None, 12)                240       \n",
      "_________________________________________________________________\n",
      "dense_2 (Dense)              (None, 8)                 104       \n",
      "_________________________________________________________________\n",
      "dense_3 (Dense)              (None, 1)                 9         \n",
      "=================================================================\n",
      "Total params: 353\n",
      "Trainable params: 353\n",
      "Non-trainable params: 0\n",
      "_________________________________________________________________\n"
     ]
    }
   ],
   "source": [
    "model.summary()"
   ]
  },
  {
   "cell_type": "code",
   "execution_count": 28,
   "metadata": {},
   "outputs": [],
   "source": [
    "from keras.utils.vis_utils import plot_model\n",
    "plot_model(model, to_file='model_plot.png', show_shapes=True, show_layer_names=True)"
   ]
  },
  {
   "cell_type": "code",
   "execution_count": 29,
   "metadata": {},
   "outputs": [],
   "source": [
    "model.compile(loss='binary_crossentropy', optimizer='adam', metrics=['accuracy'])"
   ]
  },
  {
   "cell_type": "code",
   "execution_count": 30,
   "metadata": {},
   "outputs": [
    {
     "name": "stdout",
     "output_type": "stream",
     "text": [
      "WARNING:tensorflow:From /usr/local/lib/python3.5/dist-packages/tensorflow/python/ops/math_ops.py:3066: to_int32 (from tensorflow.python.ops.math_ops) is deprecated and will be removed in a future version.\n",
      "Instructions for updating:\n",
      "Use tf.cast instead.\n",
      "Epoch 1/5\n",
      "427367/427367 [==============================] - 13s 31us/step - loss: 3.8052 - acc: 0.7613\n",
      "Epoch 2/5\n",
      "427367/427367 [==============================] - 12s 28us/step - loss: 3.8052 - acc: 0.7613\n",
      "Epoch 3/5\n",
      "427367/427367 [==============================] - 12s 28us/step - loss: 3.8052 - acc: 0.7613\n",
      "Epoch 4/5\n",
      "427367/427367 [==============================] - 12s 27us/step - loss: 3.8052 - acc: 0.7613\n",
      "Epoch 5/5\n",
      "427367/427367 [==============================] - 12s 27us/step - loss: 3.8052 - acc: 0.7613\n"
     ]
    },
    {
     "data": {
      "text/plain": [
       "<keras.callbacks.History at 0x7fa2224a4828>"
      ]
     },
     "execution_count": 30,
     "metadata": {},
     "output_type": "execute_result"
    }
   ],
   "source": [
    "model.fit(x_train,y_train, epochs=5)"
   ]
  },
  {
   "cell_type": "code",
   "execution_count": 31,
   "metadata": {},
   "outputs": [
    {
     "name": "stdout",
     "output_type": "stream",
     "text": [
      "427367/427367 [==============================] - 4s 10us/step\n",
      "Accuracy: train 76.13\n"
     ]
    }
   ],
   "source": [
    "accuracy = model.evaluate(x_train, y_train)\n",
    "print('Accuracy: train %.2f' % (accuracy[1]*100))"
   ]
  },
  {
   "cell_type": "code",
   "execution_count": 32,
   "metadata": {},
   "outputs": [
    {
     "name": "stdout",
     "output_type": "stream",
     "text": [
      "210495/210495 [==============================] - 2s 11us/step\n",
      "Accuracy: test 76.18\n"
     ]
    }
   ],
   "source": [
    "accuracy = model.evaluate(x_test, y_test)\n",
    "print('Accuracy: test %.2f' % (accuracy[1]*100))"
   ]
  },
  {
   "cell_type": "code",
   "execution_count": 33,
   "metadata": {},
   "outputs": [],
   "source": [
    "# Y_predict = model.predict(x_test)\n",
    "# print(Y_predict)\n",
    "# cm = np.array(confusion_matrix(y_test, Y_predict, labels=[0,1]))\n",
    "# confusion = pd.DataFrame(cm, index = ['attack', 'normal'],\n",
    "#                         columns = ['pred_attack','pred_normal'])\n",
    "# confusion"
   ]
  },
  {
   "cell_type": "code",
   "execution_count": null,
   "metadata": {},
   "outputs": [],
   "source": []
  },
  {
   "cell_type": "code",
   "execution_count": null,
   "metadata": {},
   "outputs": [],
   "source": []
  },
  {
   "cell_type": "code",
   "execution_count": null,
   "metadata": {},
   "outputs": [],
   "source": []
  },
  {
   "cell_type": "code",
   "execution_count": null,
   "metadata": {},
   "outputs": [],
   "source": []
  },
  {
   "cell_type": "code",
   "execution_count": null,
   "metadata": {},
   "outputs": [],
   "source": []
  },
  {
   "cell_type": "markdown",
   "metadata": {},
   "source": [
    "## Feature selection using pearson correlation"
   ]
  },
  {
   "cell_type": "code",
   "execution_count": 34,
   "metadata": {},
   "outputs": [],
   "source": [
    "df['Label'] = y"
   ]
  },
  {
   "cell_type": "code",
   "execution_count": 35,
   "metadata": {},
   "outputs": [
    {
     "data": {
      "text/plain": [
       "(637862, 20)"
      ]
     },
     "execution_count": 35,
     "metadata": {},
     "output_type": "execute_result"
    }
   ],
   "source": [
    "df.shape"
   ]
  },
  {
   "cell_type": "code",
   "execution_count": 36,
   "metadata": {},
   "outputs": [
    {
     "name": "stderr",
     "output_type": "stream",
     "text": [
      "/usr/local/lib/python3.5/dist-packages/pandas/core/computation/check.py:19: UserWarning: The installed version of numexpr 2.4.3 is not supported in pandas and will be not be used\n",
      "The minimum supported version is 2.6.1\n",
      "\n",
      "  ver=ver, min_ver=_MIN_NUMEXPR_VERSION), UserWarning)\n"
     ]
    },
    {
     "data": {
      "image/png": "[encoded data removed]",
      "text/plain": [
       "<matplotlib.figure.Figure at 0x7fa24ac9ae10>"
      ]
     },
     "metadata": {},
     "output_type": "display_data"
    }
   ],
   "source": [
    "plt.figure(figsize=(12,10))\n",
    "cor = df.corr()\n",
    "sns.heatmap(cor, annot=True, cmap=plt.cm.Reds)\n",
    "plt.show()"
   ]
  },
  {
   "cell_type": "code",
   "execution_count": 37,
   "metadata": {},
   "outputs": [
    {
     "data": {
      "text/plain": [
       "protocol    0.820096\n",
       "Tmode       0.844137\n",
       "Label       1.000000\n",
       "Name: Label, dtype: float64"
      ]
     },
     "execution_count": 37,
     "metadata": {},
     "output_type": "execute_result"
    }
   ],
   "source": [
    "cor_target = abs(cor['Label'])\n",
    "#Selecting highly correlated features\n",
    "relevant_features = cor_target[cor_target>0.5]\n",
    "relevant_features"
   ]
  },
  {
   "cell_type": "code",
   "execution_count": 38,
   "metadata": {},
   "outputs": [],
   "source": [
    "X_new = x_train[['protocol','Tmode']]"
   ]
  },
  {
   "cell_type": "code",
   "execution_count": 39,
   "metadata": {},
   "outputs": [
    {
     "data": {
      "text/plain": [
       "(427367, 2)"
      ]
     },
     "execution_count": 39,
     "metadata": {},
     "output_type": "execute_result"
    }
   ],
   "source": [
    "X_new.shape"
   ]
  },
  {
   "cell_type": "code",
   "execution_count": 40,
   "metadata": {},
   "outputs": [],
   "source": [
    "clf = Sequential()\n",
    "clf.add(Dense(12, input_dim=2, activation='relu'))\n",
    "clf.add(Dense(8, activation='relu'))\n",
    "clf.add(Dense(1, activation='sigmoid'))"
   ]
  },
  {
   "cell_type": "code",
   "execution_count": 41,
   "metadata": {},
   "outputs": [],
   "source": [
    "clf.compile(loss='binary_crossentropy', optimizer='adam', metrics=['accuracy'])"
   ]
  },
  {
   "cell_type": "code",
   "execution_count": 42,
   "metadata": {},
   "outputs": [
    {
     "name": "stdout",
     "output_type": "stream",
     "text": [
      "Epoch 1/1\n",
      "427367/427367 [==============================] - 13s 31us/step - loss: 0.2070 - acc: 0.9397\n"
     ]
    },
    {
     "data": {
      "text/plain": [
       "<keras.callbacks.History at 0x7fa210b46b00>"
      ]
     },
     "execution_count": 42,
     "metadata": {},
     "output_type": "execute_result"
    }
   ],
   "source": [
    "clf.fit(X_new,y_train, epochs=1)"
   ]
  },
  {
   "cell_type": "code",
   "execution_count": 43,
   "metadata": {},
   "outputs": [
    {
     "name": "stdout",
     "output_type": "stream",
     "text": [
      "427367/427367 [==============================] - 5s 11us/step\n",
      "Accuracy: train 94.22\n"
     ]
    }
   ],
   "source": [
    "accuracy = clf.evaluate(X_new, y_train)\n",
    "print('Accuracy: train %.2f' % (accuracy[1]*100))"
   ]
  },
  {
   "cell_type": "code",
   "execution_count": 44,
   "metadata": {},
   "outputs": [
    {
     "data": {
      "text/plain": [
       "(210495, 2)"
      ]
     },
     "execution_count": 44,
     "metadata": {},
     "output_type": "execute_result"
    }
   ],
   "source": [
    "X_new_test = x_test[['protocol','Tmode']]\n",
    "X_new_test.shape"
   ]
  },
  {
   "cell_type": "code",
   "execution_count": 45,
   "metadata": {},
   "outputs": [
    {
     "name": "stdout",
     "output_type": "stream",
     "text": [
      "210495/210495 [==============================] - 2s 11us/step\n",
      "Accuracy: test 94.20\n"
     ]
    }
   ],
   "source": [
    "accuracy = clf.evaluate(X_new_test, y_test)\n",
    "print('Accuracy: test %.2f' % (accuracy[1]*100))"
   ]
  },
  {
   "cell_type": "code",
   "execution_count": null,
   "metadata": {},
   "outputs": [],
   "source": []
  },
  {
   "cell_type": "code",
   "execution_count": null,
   "metadata": {},
   "outputs": [],
   "source": []
  },
  {
   "cell_type": "code",
   "execution_count": null,
   "metadata": {},
   "outputs": [],
   "source": []
  },
  {
   "cell_type": "code",
   "execution_count": null,
   "metadata": {},
   "outputs": [],
   "source": []
  },
  {
   "cell_type": "code",
   "execution_count": null,
   "metadata": {},
   "outputs": [],
   "source": []
  },
  {
   "cell_type": "code",
   "execution_count": null,
   "metadata": {},
   "outputs": [],
   "source": []
  },
  {
   "cell_type": "code",
   "execution_count": null,
   "metadata": {},
   "outputs": [],
   "source": []
  },
  {
   "cell_type": "code",
   "execution_count": null,
   "metadata": {},
   "outputs": [],
   "source": []
  },
  {
   "cell_type": "markdown",
   "metadata": {},
   "source": [
    "## Feature selection using tree based method"
   ]
  },
  {
   "cell_type": "code",
   "execution_count": 46,
   "metadata": {},
   "outputs": [
    {
     "name": "stdout",
     "output_type": "stream",
     "text": [
      "[0.00742226 0.19600017 0.01215676 0.02488806 0.00254518 0.04508327\n",
      " 0.00612698 0.11977333 0.08683206 0.05943547 0.0458278  0.37546136\n",
      " 0.00142745 0.00397743 0.00409512 0.0022352  0.0022158  0.00177124\n",
      " 0.00272505]\n"
     ]
    }
   ],
   "source": [
    "ETC = ExtraTreesClassifier()\n",
    "ETC.fit(x_train, y_train)\n",
    "print(ETC.feature_importances_)"
   ]
  },
  {
   "cell_type": "code",
   "execution_count": 47,
   "metadata": {},
   "outputs": [
    {
     "name": "stderr",
     "output_type": "stream",
     "text": [
      "/home/manish/.local/lib/python3.5/site-packages/sklearn/utils/__init__.py:54: FutureWarning: Conversion of the second argument of issubdtype from `int` to `np.signedinteger` is deprecated. In future, it will be treated as `np.int64 == np.dtype(int).type`.\n",
      "  if np.issubdtype(mask.dtype, np.int):\n"
     ]
    },
    {
     "data": {
      "text/plain": [
       "(427367, 5)"
      ]
     },
     "execution_count": 47,
     "metadata": {},
     "output_type": "execute_result"
    }
   ],
   "source": [
    "ETC_model = SelectFromModel(ETC, prefit=True)\n",
    "X_new = ETC_model.transform(x_train)\n",
    "X_new.shape               "
   ]
  },
  {
   "cell_type": "code",
   "execution_count": 50,
   "metadata": {},
   "outputs": [],
   "source": [
    "clf2 = Sequential()\n",
    "clf2.add(Dense(12, input_dim=5, activation='relu'))\n",
    "clf2.add(Dense(8, activation='relu'))\n",
    "clf2.add(Dense(1, activation='sigmoid'))"
   ]
  },
  {
   "cell_type": "code",
   "execution_count": 51,
   "metadata": {},
   "outputs": [],
   "source": [
    "clf2.compile(loss='binary_crossentropy', optimizer='adam', metrics=['accuracy'])"
   ]
  },
  {
   "cell_type": "code",
   "execution_count": 52,
   "metadata": {},
   "outputs": [
    {
     "name": "stdout",
     "output_type": "stream",
     "text": [
      "Epoch 1/1\n",
      "427367/427367 [==============================] - 13s 31us/step - loss: 0.1724 - acc: 0.9474\n"
     ]
    },
    {
     "data": {
      "text/plain": [
       "<keras.callbacks.History at 0x7fa208cdf668>"
      ]
     },
     "execution_count": 52,
     "metadata": {},
     "output_type": "execute_result"
    }
   ],
   "source": [
    "clf2.fit(X_new,y_train, epochs=1)"
   ]
  },
  {
   "cell_type": "code",
   "execution_count": 53,
   "metadata": {},
   "outputs": [
    {
     "name": "stdout",
     "output_type": "stream",
     "text": [
      "427367/427367 [==============================] - 5s 11us/step\n",
      "Accuracy: train 97.32\n"
     ]
    }
   ],
   "source": [
    "accuracy = clf2.evaluate(X_new, y_train)\n",
    "print('Accuracy: train %.2f' % (accuracy[1]*100))"
   ]
  },
  {
   "cell_type": "code",
   "execution_count": 54,
   "metadata": {},
   "outputs": [
    {
     "name": "stderr",
     "output_type": "stream",
     "text": [
      "/home/manish/.local/lib/python3.5/site-packages/sklearn/utils/__init__.py:54: FutureWarning: Conversion of the second argument of issubdtype from `int` to `np.signedinteger` is deprecated. In future, it will be treated as `np.int64 == np.dtype(int).type`.\n",
      "  if np.issubdtype(mask.dtype, np.int):\n"
     ]
    },
    {
     "data": {
      "text/plain": [
       "(210495, 5)"
      ]
     },
     "execution_count": 54,
     "metadata": {},
     "output_type": "execute_result"
    }
   ],
   "source": [
    "X_new_test = ETC_model.transform(x_test)\n",
    "X_new_test.shape"
   ]
  },
  {
   "cell_type": "code",
   "execution_count": 55,
   "metadata": {},
   "outputs": [
    {
     "name": "stdout",
     "output_type": "stream",
     "text": [
      "210495/210495 [==============================] - 2s 11us/step\n",
      "Accuracy: test 97.28\n"
     ]
    }
   ],
   "source": [
    "accuracy = clf2.evaluate(X_new_test, y_test)\n",
    "print('Accuracy: test %.2f' % (accuracy[1]*100))"
   ]
  },
  {
   "cell_type": "code",
   "execution_count": null,
   "metadata": {},
   "outputs": [],
   "source": []
  },
  {
   "cell_type": "code",
   "execution_count": null,
   "metadata": {},
   "outputs": [],
   "source": []
  },
  {
   "cell_type": "code",
   "execution_count": null,
   "metadata": {},
   "outputs": [],
   "source": []
  },
  {
   "cell_type": "code",
   "execution_count": null,
   "metadata": {},
   "outputs": [],
   "source": []
  }
 ],
 "metadata": {
  "kernelspec": {
   "display_name": "Python 3",
   "language": "python",
   "name": "python3"
  },
  "language_info": {
   "codemirror_mode": {
    "name": "ipython",
    "version": 3
   },
   "file_extension": ".py",
   "mimetype": "text/x-python",
   "name": "python",
   "nbconvert_exporter": "python",
   "pygments_lexer": "ipython3",
   "version": "3.7.3"
  }
 },
 "nbformat": 4,
 "nbformat_minor": 2
}
